{
 "cells": [
  {
   "cell_type": "code",
   "execution_count": 2,
   "metadata": {},
   "outputs": [],
   "source": [
    "import torch"
   ]
  },
  {
   "cell_type": "markdown",
   "metadata": {},
   "source": [
    "# 1. Basic"
   ]
  },
  {
   "cell_type": "markdown",
   "metadata": {},
   "source": [
    "## 1.1 Construct a tensor"
   ]
  },
  {
   "cell_type": "code",
   "execution_count": 8,
   "metadata": {},
   "outputs": [
    {
     "name": "stdout",
     "output_type": "stream",
     "text": [
      "tensor([[0.0000e+00, 0.0000e+00, 0.0000e+00],\n",
      "        [0.0000e+00, 0.0000e+00, 0.0000e+00],\n",
      "        [0.0000e+00, 0.0000e+00, 0.0000e+00],\n",
      "        [0.0000e+00, 2.0571e-42, 0.0000e+00],\n",
      "        [0.0000e+00, 4.2246e-39, 0.0000e+00]])\n",
      "tensor([[0.5455, 0.1735, 0.4184],\n",
      "        [0.3836, 0.8486, 0.5562],\n",
      "        [0.6455, 0.7959, 0.5787],\n",
      "        [0.3247, 0.9681, 0.2473],\n",
      "        [0.4826, 0.5575, 0.8955]])\n",
      "tensor([[1., 1., 1.],\n",
      "        [1., 1., 1.],\n",
      "        [1., 1., 1.],\n",
      "        [1., 1., 1.],\n",
      "        [1., 1., 1.]], dtype=torch.float64)\n"
     ]
    }
   ],
   "source": [
    "#construct a 5*3 matrix\n",
    "x = torch.empty(5,3)\n",
    "print(x)\n",
    "#construct a 5*3 matrix\n",
    "x = torch.rand(5,3)\n",
    "print(x)\n",
    "\n",
    "#construct a tensor based on an existing tensor\n",
    "x = x.new_ones(5, 3, dtype = torch.double)\n",
    "print(x)"
   ]
  },
  {
   "cell_type": "markdown",
   "metadata": {},
   "source": [
    "## 1.2 Operation\n",
    "\n",
    "100+ Tensor operations, including transposing, indexing, slicing, mathematical operations, linear algebra, random numbers, etc., are described [here](https://pytorch.org/docs/stable/torch.html)."
   ]
  },
  {
   "cell_type": "markdown",
   "metadata": {},
   "source": [
    "### Addition\n",
    "we have 3 methods:(x and y are tensors in torch)\n",
    "* `+`operation, e.g:x + y\n",
    "* torch.add() method, e.g: torch.add(x, y) \n",
    "* tensor.add(tensor), e.g: y.add(x)"
   ]
  },
  {
   "cell_type": "code",
   "execution_count": 22,
   "metadata": {},
   "outputs": [
    {
     "name": "stdout",
     "output_type": "stream",
     "text": [
      "tensor([[0.1369, 0.0691, 0.2764],\n",
      "        [0.8451, 0.2138, 0.7306],\n",
      "        [0.7801, 0.5276, 0.9907],\n",
      "        [0.1155, 0.8259, 0.9949],\n",
      "        [0.7262, 0.9690, 0.1867]])\n",
      "tensor([[0.3382, 0.4925, 0.8011],\n",
      "        [0.4550, 0.1447, 0.9011],\n",
      "        [0.3954, 0.4953, 0.5967],\n",
      "        [0.8077, 0.6707, 0.4816],\n",
      "        [0.7932, 0.4072, 0.7884]])\n",
      "tensor([[0.4751, 0.5616, 1.0775],\n",
      "        [1.3002, 0.3586, 1.6317],\n",
      "        [1.1754, 1.0229, 1.5874],\n",
      "        [0.9232, 1.4966, 1.4765],\n",
      "        [1.5194, 1.3762, 0.9752]])\n"
     ]
    }
   ],
   "source": [
    "x,y = torch.rand(5, 3, dtype = torch.float), torch.rand(5, 3, dtype = torch.float)\n",
    "print(x)\n",
    "print(y)\n",
    "print(x + y)"
   ]
  },
  {
   "cell_type": "code",
   "execution_count": 24,
   "metadata": {},
   "outputs": [
    {
     "name": "stdout",
     "output_type": "stream",
     "text": [
      "tensor([[0.4751, 0.5616, 1.0775],\n",
      "        [1.3002, 0.3586, 1.6317],\n",
      "        [1.1754, 1.0229, 1.5874],\n",
      "        [0.9232, 1.4966, 1.4765],\n",
      "        [1.5194, 1.3762, 0.9752]])\n"
     ]
    }
   ],
   "source": [
    "#Addition: providing an output tensor as argument\n",
    "ans = torch.empty(x.size())\n",
    "torch.add(x, y, out = ans)\n",
    "print(ans)"
   ]
  },
  {
   "cell_type": "code",
   "execution_count": 25,
   "metadata": {
    "scrolled": true
   },
   "outputs": [
    {
     "name": "stdout",
     "output_type": "stream",
     "text": [
      "tensor([[0.4751, 0.5616, 1.0775],\n",
      "        [1.3002, 0.3586, 1.6317],\n",
      "        [1.1754, 1.0229, 1.5874],\n",
      "        [0.9232, 1.4966, 1.4765],\n",
      "        [1.5194, 1.3762, 0.9752]])\n",
      "tensor([[0.3382, 0.4925, 0.8011],\n",
      "        [0.4550, 0.1447, 0.9011],\n",
      "        [0.3954, 0.4953, 0.5967],\n",
      "        [0.8077, 0.6707, 0.4816],\n",
      "        [0.7932, 0.4072, 0.7884]])\n"
     ]
    }
   ],
   "source": [
    "print(y.add(x))\n",
    "print(y)"
   ]
  },
  {
   "cell_type": "markdown",
   "metadata": {},
   "source": [
    "### In-place"
   ]
  },
  {
   "cell_type": "code",
   "execution_count": 26,
   "metadata": {
    "scrolled": true
   },
   "outputs": [
    {
     "name": "stdout",
     "output_type": "stream",
     "text": [
      "tensor([[0.4751, 0.5616, 1.0775],\n",
      "        [1.3002, 0.3586, 1.6317],\n",
      "        [1.1754, 1.0229, 1.5874],\n",
      "        [0.9232, 1.4966, 1.4765],\n",
      "        [1.5194, 1.3762, 0.9752]])\n",
      "tensor([[0.4751, 0.5616, 1.0775],\n",
      "        [1.3002, 0.3586, 1.6317],\n",
      "        [1.1754, 1.0229, 1.5874],\n",
      "        [0.9232, 1.4966, 1.4765],\n",
      "        [1.5194, 1.3762, 0.9752]])\n"
     ]
    }
   ],
   "source": [
    "# Addition: in-place\n",
    "print(y.add_(x))\n",
    "print(y)"
   ]
  },
  {
   "cell_type": "markdown",
   "metadata": {},
   "source": [
    "Any operation that mutates a tensor in-place is post-fixed with an `_`. For example: `x.copy_(y)`, `x.t_()`, **will change x.**"
   ]
  },
  {
   "cell_type": "markdown",
   "metadata": {},
   "source": [
    "### Indexing\n",
    "\n",
    "You can use standard NumPy-like indexing with all bells and whistles!"
   ]
  },
  {
   "cell_type": "code",
   "execution_count": 29,
   "metadata": {},
   "outputs": [
    {
     "name": "stdout",
     "output_type": "stream",
     "text": [
      "tensor([0.0691, 0.2138, 0.5276, 0.8259, 0.9690])\n",
      "tensor([[0.1369, 0.0691, 0.2764]])\n"
     ]
    }
   ],
   "source": [
    "print(x[:,1]) #the 2nd column of x\n",
    "print(x[:1])  #the 1st row of x"
   ]
  },
  {
   "cell_type": "markdown",
   "metadata": {},
   "source": [
    "### Resizing\n",
    "\n",
    "If you want to resize/reshape tensor, you can use `torch.view`"
   ]
  },
  {
   "cell_type": "code",
   "execution_count": 32,
   "metadata": {},
   "outputs": [
    {
     "name": "stdout",
     "output_type": "stream",
     "text": [
      "torch.Size([4, 4]) torch.Size([16]) torch.Size([2, 8])\n"
     ]
    }
   ],
   "source": [
    "x = torch.randn(4, 4)\n",
    "y = x.view(16)\n",
    "z = x.view(-1, 8)  # the size -1 is inferred from other dimensions\n",
    "print(x.size(), y.size(), z.size())"
   ]
  },
  {
   "cell_type": "code",
   "execution_count": 34,
   "metadata": {},
   "outputs": [
    {
     "name": "stdout",
     "output_type": "stream",
     "text": [
      "tensor([0.7623])\n",
      "0.7622635960578918\n"
     ]
    }
   ],
   "source": [
    "# only one element tensors can be converted to Python scalars\n",
    "x = torch.randn(1)\n",
    "print(x)\n",
    "print(x.item())"
   ]
  },
  {
   "cell_type": "markdown",
   "metadata": {},
   "source": [
    "## 1.3 Numpy Bridge\n",
    "\n",
    "Converting a Torch Tensor to a NumPy array and vice versa is a breeze.\n",
    "\n",
    "The Torch Tensor and NumPy array will **share their underlying memory locations,** and changing one will change the other."
   ]
  },
  {
   "cell_type": "code",
   "execution_count": 36,
   "metadata": {},
   "outputs": [
    {
     "name": "stdout",
     "output_type": "stream",
     "text": [
      "tensor([1., 1., 1., 1., 1.])\n",
      "[1. 1. 1. 1. 1.]\n",
      "tensor([2., 2., 2., 2., 2.])\n",
      "[2. 2. 2. 2. 2.]\n"
     ]
    }
   ],
   "source": [
    "a = torch.ones(5)\n",
    "print(a)\n",
    "b = a.numpy()\n",
    "print(b)\n",
    "#See how the numpy array changed in value.\n",
    "a.add_(1)\n",
    "print(a)\n",
    "print(b)"
   ]
  },
  {
   "cell_type": "markdown",
   "metadata": {},
   "source": [
    "### Converting Numpy Array to Torch Tensor\n",
    "\n",
    "See how changing the np array changed the Torch Tensor automatically"
   ]
  },
  {
   "cell_type": "code",
   "execution_count": 38,
   "metadata": {},
   "outputs": [
    {
     "name": "stdout",
     "output_type": "stream",
     "text": [
      "[2. 2. 2. 2. 2.]\n",
      "tensor([2., 2., 2., 2., 2.], dtype=torch.float64)\n"
     ]
    }
   ],
   "source": [
    "import numpy as np\n",
    "\n",
    "a = np.ones(5)\n",
    "b = torch.from_numpy(a)\n",
    "np.add(a, 1, out=a)\n",
    "print(a)\n",
    "print(b)"
   ]
  },
  {
   "cell_type": "markdown",
   "metadata": {},
   "source": [
    "# 2. Autograd: automatic differetiation\n",
    "\n",
    "Central to all neural networks in PyTorch is the autograd package. Let’s first briefly visit this, and we will then go to training our first neural network.\n",
    "\n",
    "The autograd package provides automatic differentiation for all operations on Tensors. It is a define-by-run framework, which means that your backprop is defined by how your code is run, and that every single iteration can be different."
   ]
  },
  {
   "cell_type": "code",
   "execution_count": null,
   "metadata": {},
   "outputs": [],
   "source": []
  },
  {
   "cell_type": "code",
   "execution_count": null,
   "metadata": {},
   "outputs": [],
   "source": []
  },
  {
   "cell_type": "code",
   "execution_count": null,
   "metadata": {},
   "outputs": [],
   "source": []
  },
  {
   "cell_type": "code",
   "execution_count": null,
   "metadata": {},
   "outputs": [],
   "source": []
  },
  {
   "cell_type": "code",
   "execution_count": null,
   "metadata": {},
   "outputs": [],
   "source": []
  },
  {
   "cell_type": "code",
   "execution_count": null,
   "metadata": {},
   "outputs": [],
   "source": []
  },
  {
   "cell_type": "code",
   "execution_count": null,
   "metadata": {},
   "outputs": [],
   "source": []
  },
  {
   "cell_type": "code",
   "execution_count": null,
   "metadata": {},
   "outputs": [],
   "source": []
  },
  {
   "cell_type": "code",
   "execution_count": null,
   "metadata": {},
   "outputs": [],
   "source": []
  }
 ],
 "metadata": {
  "kernelspec": {
   "display_name": "Python 3",
   "language": "python",
   "name": "python3"
  },
  "language_info": {
   "codemirror_mode": {
    "name": "ipython",
    "version": 3
   },
   "file_extension": ".py",
   "mimetype": "text/x-python",
   "name": "python",
   "nbconvert_exporter": "python",
   "pygments_lexer": "ipython3",
   "version": "3.6.5"
  }
 },
 "nbformat": 4,
 "nbformat_minor": 2
}
